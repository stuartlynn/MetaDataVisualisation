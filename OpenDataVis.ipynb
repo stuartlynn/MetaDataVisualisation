{
 "cells": [
  {
   "cell_type": "code",
   "execution_count": 3,
   "metadata": {},
   "outputs": [],
   "source": [
    "import pandas as pd\n",
    "import json"
   ]
  },
  {
   "cell_type": "code",
   "execution_count": 10,
   "metadata": {},
   "outputs": [],
   "source": [
    "with open(\"../new-york-open-data-explorer/src/datasets.json\",'r') as f:\n",
    "    datasets = json.load(f)"
   ]
  },
  {
   "cell_type": "code",
   "execution_count": 11,
   "metadata": {},
   "outputs": [
    {
     "data": {
      "text/plain": [
       "2804"
      ]
     },
     "execution_count": 11,
     "metadata": {},
     "output_type": "execute_result"
    }
   ],
   "source": [
    "len(datasets)"
   ]
  },
  {
   "cell_type": "code",
   "execution_count": 30,
   "metadata": {},
   "outputs": [
    {
     "data": {
      "text/plain": [
       "2"
      ]
     },
     "execution_count": 30,
     "metadata": {},
     "output_type": "execute_result"
    }
   ],
   "source": [
    "len(set([2,4,5,6,7]).intersection(set([2,5])))"
   ]
  },
  {
   "cell_type": "code",
   "execution_count": 47,
   "metadata": {},
   "outputs": [],
   "source": [
    "def find_joinable(dataset):\n",
    "    columns = set( [ a.lower() for a in dataset['resource']['columns_field_name']])\n",
    "    result = []\n",
    "    for comp_dataset in datasets:\n",
    "        if(comp_dataset['resource']['id'] == dataset['resource']['id']):\n",
    "            continue\n",
    "        comp_columns = set([a.lower() for a in comp_dataset['resource']['columns_field_name']])\n",
    "        no_matches = len(columns.intersection(comp_columns))\n",
    "        if(no_matches>0):\n",
    "            result.append({'o': dataset['resource']['id'],\n",
    "                           'd':comp_dataset['resource']['id'],\n",
    "                           'col':no_matches\n",
    "                          })\n",
    "        \n",
    "    return result"
   ]
  },
  {
   "cell_type": "code",
   "execution_count": 48,
   "metadata": {},
   "outputs": [],
   "source": [
    "joins = []\n",
    "for dataset in datasets:\n",
    "    joins.extend(find_joinable(dataset))"
   ]
  },
  {
   "cell_type": "code",
   "execution_count": 126,
   "metadata": {},
   "outputs": [],
   "source": [
    "joins = pd.DataFrame(joins)"
   ]
  },
  {
   "cell_type": "code",
   "execution_count": null,
   "metadata": {},
   "outputs": [],
   "source": [
    "number_lookup = "
   ]
  },
  {
   "cell_type": "code",
   "execution_count": 127,
   "metadata": {},
   "outputs": [
    {
     "data": {
      "text/html": [
       "<div>\n",
       "<style scoped>\n",
       "    .dataframe tbody tr th:only-of-type {\n",
       "        vertical-align: middle;\n",
       "    }\n",
       "\n",
       "    .dataframe tbody tr th {\n",
       "        vertical-align: top;\n",
       "    }\n",
       "\n",
       "    .dataframe thead th {\n",
       "        text-align: right;\n",
       "    }\n",
       "</style>\n",
       "<table border=\"1\" class=\"dataframe\">\n",
       "  <thead>\n",
       "    <tr style=\"text-align: right;\">\n",
       "      <th></th>\n",
       "      <th>o</th>\n",
       "      <th>d</th>\n",
       "      <th>col</th>\n",
       "    </tr>\n",
       "  </thead>\n",
       "  <tbody>\n",
       "    <tr>\n",
       "      <td>0</td>\n",
       "      <td>fuzi-xuv4</td>\n",
       "      <td>dggd-3jfu</td>\n",
       "      <td>1</td>\n",
       "    </tr>\n",
       "    <tr>\n",
       "      <td>1</td>\n",
       "      <td>fuzi-xuv4</td>\n",
       "      <td>p5yk-zjsc</td>\n",
       "      <td>6</td>\n",
       "    </tr>\n",
       "    <tr>\n",
       "      <td>2</td>\n",
       "      <td>fuzi-xuv4</td>\n",
       "      <td>v2hd-uwxx</td>\n",
       "      <td>3</td>\n",
       "    </tr>\n",
       "    <tr>\n",
       "      <td>3</td>\n",
       "      <td>fuzi-xuv4</td>\n",
       "      <td>i6ds-scnc</td>\n",
       "      <td>1</td>\n",
       "    </tr>\n",
       "    <tr>\n",
       "      <td>4</td>\n",
       "      <td>fuzi-xuv4</td>\n",
       "      <td>cirn-n726</td>\n",
       "      <td>8</td>\n",
       "    </tr>\n",
       "    <tr>\n",
       "      <td>...</td>\n",
       "      <td>...</td>\n",
       "      <td>...</td>\n",
       "      <td>...</td>\n",
       "    </tr>\n",
       "    <tr>\n",
       "      <td>759681</td>\n",
       "      <td>w9ak-ipjd</td>\n",
       "      <td>867j-5pgi</td>\n",
       "      <td>8</td>\n",
       "    </tr>\n",
       "    <tr>\n",
       "      <td>759682</td>\n",
       "      <td>w9ak-ipjd</td>\n",
       "      <td>uvpi-gqnh</td>\n",
       "      <td>7</td>\n",
       "    </tr>\n",
       "    <tr>\n",
       "      <td>759683</td>\n",
       "      <td>w9ak-ipjd</td>\n",
       "      <td>ymhw-9cz9</td>\n",
       "      <td>7</td>\n",
       "    </tr>\n",
       "    <tr>\n",
       "      <td>759684</td>\n",
       "      <td>w9ak-ipjd</td>\n",
       "      <td>4e2n-s75z</td>\n",
       "      <td>9</td>\n",
       "    </tr>\n",
       "    <tr>\n",
       "      <td>759685</td>\n",
       "      <td>w9ak-ipjd</td>\n",
       "      <td>6z8x-wfk4</td>\n",
       "      <td>1</td>\n",
       "    </tr>\n",
       "  </tbody>\n",
       "</table>\n",
       "<p>759686 rows × 3 columns</p>\n",
       "</div>"
      ],
      "text/plain": [
       "                o          d  col\n",
       "0       fuzi-xuv4  dggd-3jfu    1\n",
       "1       fuzi-xuv4  p5yk-zjsc    6\n",
       "2       fuzi-xuv4  v2hd-uwxx    3\n",
       "3       fuzi-xuv4  i6ds-scnc    1\n",
       "4       fuzi-xuv4  cirn-n726    8\n",
       "...           ...        ...  ...\n",
       "759681  w9ak-ipjd  867j-5pgi    8\n",
       "759682  w9ak-ipjd  uvpi-gqnh    7\n",
       "759683  w9ak-ipjd  ymhw-9cz9    7\n",
       "759684  w9ak-ipjd  4e2n-s75z    9\n",
       "759685  w9ak-ipjd  6z8x-wfk4    1\n",
       "\n",
       "[759686 rows x 3 columns]"
      ]
     },
     "execution_count": 127,
     "metadata": {},
     "output_type": "execute_result"
    }
   ],
   "source": [
    "joins"
   ]
  },
  {
   "cell_type": "code",
   "execution_count": 55,
   "metadata": {},
   "outputs": [],
   "source": [
    "potential_join_datasets = pd.DataFrame(joins).groupby('o').count()[['d']]"
   ]
  },
  {
   "cell_type": "code",
   "execution_count": 56,
   "metadata": {},
   "outputs": [
    {
     "data": {
      "text/html": [
       "<div>\n",
       "<style scoped>\n",
       "    .dataframe tbody tr th:only-of-type {\n",
       "        vertical-align: middle;\n",
       "    }\n",
       "\n",
       "    .dataframe tbody tr th {\n",
       "        vertical-align: top;\n",
       "    }\n",
       "\n",
       "    .dataframe thead th {\n",
       "        text-align: right;\n",
       "    }\n",
       "</style>\n",
       "<table border=\"1\" class=\"dataframe\">\n",
       "  <thead>\n",
       "    <tr style=\"text-align: right;\">\n",
       "      <th></th>\n",
       "      <th>d</th>\n",
       "    </tr>\n",
       "    <tr>\n",
       "      <th>o</th>\n",
       "      <th></th>\n",
       "    </tr>\n",
       "  </thead>\n",
       "  <tbody>\n",
       "    <tr>\n",
       "      <td>2232-dj5q</td>\n",
       "      <td>210</td>\n",
       "    </tr>\n",
       "    <tr>\n",
       "      <td>22rr-ujq3</td>\n",
       "      <td>324</td>\n",
       "    </tr>\n",
       "    <tr>\n",
       "      <td>23z9-6uk9</td>\n",
       "      <td>1101</td>\n",
       "    </tr>\n",
       "    <tr>\n",
       "      <td>24nr-gahi</td>\n",
       "      <td>233</td>\n",
       "    </tr>\n",
       "    <tr>\n",
       "      <td>259a-b6s7</td>\n",
       "      <td>29</td>\n",
       "    </tr>\n",
       "    <tr>\n",
       "      <td>...</td>\n",
       "      <td>...</td>\n",
       "    </tr>\n",
       "    <tr>\n",
       "      <td>yz7z-iupz</td>\n",
       "      <td>450</td>\n",
       "    </tr>\n",
       "    <tr>\n",
       "      <td>zmut-au2w</td>\n",
       "      <td>654</td>\n",
       "    </tr>\n",
       "    <tr>\n",
       "      <td>zpd4-gad8</td>\n",
       "      <td>858</td>\n",
       "    </tr>\n",
       "    <tr>\n",
       "      <td>zs4w-c9cd</td>\n",
       "      <td>587</td>\n",
       "    </tr>\n",
       "    <tr>\n",
       "      <td>zt9s-n5aj</td>\n",
       "      <td>354</td>\n",
       "    </tr>\n",
       "  </tbody>\n",
       "</table>\n",
       "<p>2028 rows × 1 columns</p>\n",
       "</div>"
      ],
      "text/plain": [
       "              d\n",
       "o              \n",
       "2232-dj5q   210\n",
       "22rr-ujq3   324\n",
       "23z9-6uk9  1101\n",
       "24nr-gahi   233\n",
       "259a-b6s7    29\n",
       "...         ...\n",
       "yz7z-iupz   450\n",
       "zmut-au2w   654\n",
       "zpd4-gad8   858\n",
       "zs4w-c9cd   587\n",
       "zt9s-n5aj   354\n",
       "\n",
       "[2028 rows x 1 columns]"
      ]
     },
     "execution_count": 56,
     "metadata": {},
     "output_type": "execute_result"
    }
   ],
   "source": [
    "potential_join_datasets"
   ]
  },
  {
   "cell_type": "code",
   "execution_count": 65,
   "metadata": {},
   "outputs": [
    {
     "ename": "KeyError",
     "evalue": "'domain_metadata'",
     "output_type": "error",
     "traceback": [
      "\u001b[0;31m---------------------------------------------------------------------------\u001b[0m",
      "\u001b[0;31mKeyError\u001b[0m                                  Traceback (most recent call last)",
      "\u001b[0;32m<ipython-input-65-54ad61c83ea0>\u001b[0m in \u001b[0;36m<module>\u001b[0;34m\u001b[0m\n\u001b[0;32m----> 1\u001b[0;31m \u001b[0mdepartmentList\u001b[0m \u001b[0;34m=\u001b[0m \u001b[0;34m[\u001b[0m\u001b[0md\u001b[0m\u001b[0;34m[\u001b[0m\u001b[0;34m'resource'\u001b[0m\u001b[0;34m]\u001b[0m\u001b[0;34m[\u001b[0m\u001b[0;34m'domain_metadata'\u001b[0m\u001b[0;34m]\u001b[0m\u001b[0;34m[\u001b[0m\u001b[0;34m'Dataset-Information_Agency'\u001b[0m\u001b[0;34m]\u001b[0m \u001b[0;32mfor\u001b[0m \u001b[0md\u001b[0m \u001b[0;32min\u001b[0m \u001b[0mdatasets\u001b[0m\u001b[0;34m]\u001b[0m\u001b[0;34m\u001b[0m\u001b[0;34m\u001b[0m\u001b[0m\n\u001b[0m",
      "\u001b[0;32m<ipython-input-65-54ad61c83ea0>\u001b[0m in \u001b[0;36m<listcomp>\u001b[0;34m(.0)\u001b[0m\n\u001b[0;32m----> 1\u001b[0;31m \u001b[0mdepartmentList\u001b[0m \u001b[0;34m=\u001b[0m \u001b[0;34m[\u001b[0m\u001b[0md\u001b[0m\u001b[0;34m[\u001b[0m\u001b[0;34m'resource'\u001b[0m\u001b[0;34m]\u001b[0m\u001b[0;34m[\u001b[0m\u001b[0;34m'domain_metadata'\u001b[0m\u001b[0;34m]\u001b[0m\u001b[0;34m[\u001b[0m\u001b[0;34m'Dataset-Information_Agency'\u001b[0m\u001b[0;34m]\u001b[0m \u001b[0;32mfor\u001b[0m \u001b[0md\u001b[0m \u001b[0;32min\u001b[0m \u001b[0mdatasets\u001b[0m\u001b[0;34m]\u001b[0m\u001b[0;34m\u001b[0m\u001b[0;34m\u001b[0m\u001b[0m\n\u001b[0m",
      "\u001b[0;31mKeyError\u001b[0m: 'domain_metadata'"
     ]
    }
   ],
   "source": [
    "departmentList = [d['resource']['domain_metadata']['Dataset-Information_Agency'] for d in datasets]"
   ]
  },
  {
   "cell_type": "code",
   "execution_count": 88,
   "metadata": {},
   "outputs": [],
   "source": [
    "def get_agency(dataset):\n",
    "    metadata = dataset['classification']['domain_metadata']\n",
    "    hits= [entry['value'] for entry in metadata if entry['key'] == 'Dataset-Information_Agency']\n",
    "    if(len(hits)>0):\n",
    "        return hits[0]\n",
    "    return None"
   ]
  },
  {
   "cell_type": "code",
   "execution_count": 91,
   "metadata": {},
   "outputs": [],
   "source": [
    "data = [ {\"id\": dataset['resource']['id'], \n",
    "   \"page_views\" : dataset['resource']['page_views']['page_views_total'],\n",
    "   \"downloads\": dataset['resource']['download_count'],\n",
    "   \"columns\" : len(dataset['resource']['columns_name']),\n",
    "   'agency': get_agency(dataset)\n",
    "  }\n",
    " for dataset in datasets]"
   ]
  },
  {
   "cell_type": "code",
   "execution_count": 100,
   "metadata": {},
   "outputs": [],
   "source": [
    "result = (pd.merge(pd.DataFrame(data), \n",
    "                  potential_join_datasets, \n",
    "                  left_on='id', \n",
    "                  right_index=True, \n",
    "                  how='left')\n",
    "           .fillna(0))\n",
    "result = result.assign(agency=result.agency.astype('category'))"
   ]
  },
  {
   "cell_type": "code",
   "execution_count": 110,
   "metadata": {},
   "outputs": [],
   "source": [
    "import seaborn as sns"
   ]
  },
  {
   "cell_type": "code",
   "execution_count": 113,
   "metadata": {},
   "outputs": [
    {
     "data": {
      "text/plain": [
       "[(0.5529411764705883, 0.8274509803921568, 0.7803921568627451),\n",
       " (1.0, 1.0, 0.7019607843137254),\n",
       " (0.7450980392156863, 0.7294117647058823, 0.8549019607843137),\n",
       " (0.984313725490196, 0.5019607843137255, 0.4470588235294118),\n",
       " (0.5019607843137255, 0.6941176470588235, 0.8274509803921568),\n",
       " (0.9921568627450981, 0.7058823529411765, 0.3843137254901961),\n",
       " (0.7019607843137254, 0.8705882352941177, 0.4117647058823529),\n",
       " (0.9882352941176471, 0.803921568627451, 0.8980392156862745),\n",
       " (0.8509803921568627, 0.8509803921568627, 0.8509803921568627),\n",
       " (0.7372549019607844, 0.5019607843137255, 0.7411764705882353),\n",
       " (0.8, 0.9215686274509803, 0.7725490196078432),\n",
       " (1.0, 0.9294117647058824, 0.43529411764705883),\n",
       " (0.5529411764705883, 0.8274509803921568, 0.7803921568627451),\n",
       " (1.0, 1.0, 0.7019607843137254),\n",
       " (0.7450980392156863, 0.7294117647058823, 0.8549019607843137),\n",
       " (0.984313725490196, 0.5019607843137255, 0.4470588235294118),\n",
       " (0.5019607843137255, 0.6941176470588235, 0.8274509803921568),\n",
       " (0.9921568627450981, 0.7058823529411765, 0.3843137254901961),\n",
       " (0.7019607843137254, 0.8705882352941177, 0.4117647058823529),\n",
       " (0.9882352941176471, 0.803921568627451, 0.8980392156862745),\n",
       " (0.8509803921568627, 0.8509803921568627, 0.8509803921568627),\n",
       " (0.7372549019607844, 0.5019607843137255, 0.7411764705882353),\n",
       " (0.8, 0.9215686274509803, 0.7725490196078432),\n",
       " (1.0, 0.9294117647058824, 0.43529411764705883),\n",
       " (0.5529411764705883, 0.8274509803921568, 0.7803921568627451),\n",
       " (1.0, 1.0, 0.7019607843137254),\n",
       " (0.7450980392156863, 0.7294117647058823, 0.8549019607843137),\n",
       " (0.984313725490196, 0.5019607843137255, 0.4470588235294118),\n",
       " (0.5019607843137255, 0.6941176470588235, 0.8274509803921568),\n",
       " (0.9921568627450981, 0.7058823529411765, 0.3843137254901961)]"
      ]
     },
     "execution_count": 113,
     "metadata": {},
     "output_type": "execute_result"
    }
   ],
   "source": [
    "qualitative_colors = sns.color_palette(\"Set3\", 30)\n",
    "qualitative_colors"
   ]
  },
  {
   "cell_type": "code",
   "execution_count": 121,
   "metadata": {},
   "outputs": [],
   "source": [
    "qualitative_colors = sns.color_palette(\"Set3\", 30)\n",
    "color_list = dict(zip(\n",
    "list(result.groupby('agency').count().sort_values(by='page_views', ascending=False).head(30).index),qualitative_colors,))"
   ]
  },
  {
   "cell_type": "code",
   "execution_count": 123,
   "metadata": {},
   "outputs": [],
   "source": [
    "result = result.assign(r= result.agency.apply(lambda x: color_list[x][0] if x in color_list else 0.7 ),\n",
    "             g= result.agency.apply(lambda x: color_list[x][1] if x in color_list else 0.7 ),\n",
    "             b =result.agency.apply(lambda x: color_list[x][2] if x in color_list else 0,7))"
   ]
  },
  {
   "cell_type": "code",
   "execution_count": 124,
   "metadata": {},
   "outputs": [],
   "source": [
    "result.to_csv('static/dataset_stats.csv',index=False)"
   ]
  },
  {
   "cell_type": "code",
   "execution_count": 90,
   "metadata": {},
   "outputs": [
    {
     "data": {
      "text/plain": [
       "'New York City Housing Authority (NYCHA)'"
      ]
     },
     "execution_count": 90,
     "metadata": {},
     "output_type": "execute_result"
    }
   ],
   "source": [
    "get_agency(datasets[10])"
   ]
  },
  {
   "cell_type": "code",
   "execution_count": 74,
   "metadata": {},
   "outputs": [
    {
     "data": {
      "text/plain": [
       "[{'key': 'Data-Collection_Data-Collection',\n",
       "  'value': 'Services available to NYCHA Residents - Local Law 163'},\n",
       " {'key': 'Update_Automation', 'value': 'No'},\n",
       " {'key': 'Update_Date-Made-Public', 'value': '11/29/2019'},\n",
       " {'key': 'Update_Update-Frequency', 'value': 'Annually'},\n",
       " {'key': 'Dataset-Information_Agency',\n",
       "  'value': 'New York City Housing Authority (NYCHA)'}]"
      ]
     },
     "execution_count": 74,
     "metadata": {},
     "output_type": "execute_result"
    }
   ],
   "source": [
    "datasets[10]['classification']['domain_metadata']"
   ]
  },
  {
   "cell_type": "code",
   "execution_count": 133,
   "metadata": {},
   "outputs": [],
   "source": [
    "pos_lookup = dict(zip(list(result.id), list(result.index)))"
   ]
  },
  {
   "cell_type": "code",
   "execution_count": 140,
   "metadata": {},
   "outputs": [],
   "source": [
    "joins.assign(o = joins.o.apply(lambda x: pos_lookup[x]),\n",
    "             d = joins.d.apply(lambda x: pos_lookup[x])).to_csv('static/links.csv', index=False)"
   ]
  },
  {
   "cell_type": "code",
   "execution_count": null,
   "metadata": {},
   "outputs": [],
   "source": []
  }
 ],
 "metadata": {
  "kernelspec": {
   "display_name": "Python 3",
   "language": "python",
   "name": "python3"
  },
  "language_info": {
   "codemirror_mode": {
    "name": "ipython",
    "version": 3
   },
   "file_extension": ".py",
   "mimetype": "text/x-python",
   "name": "python",
   "nbconvert_exporter": "python",
   "pygments_lexer": "ipython3",
   "version": "3.7.3"
  }
 },
 "nbformat": 4,
 "nbformat_minor": 4
}
